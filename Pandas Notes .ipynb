{
 "cells": [
  {
   "cell_type": "code",
   "execution_count": 43,
   "id": "fd5744e5-33e9-4775-9552-91d1e607946a",
   "metadata": {},
   "outputs": [],
   "source": [
    "#we have import display libary for the HTML "
   ]
  },
  {
   "cell_type": "code",
   "execution_count": 42,
   "id": "b28e038a-63af-4b7a-8ea4-1529230048d0",
   "metadata": {},
   "outputs": [
    {
     "name": "stderr",
     "output_type": "stream",
     "text": [
      "C:\\Users\\FC\\AppData\\Local\\Temp\\ipykernel_13128\\2170224784.py:1: DeprecationWarning: Importing display from IPython.core.display is deprecated since IPython 7.14, please import from IPython.display\n",
      "  from IPython.core.display import display, HTML\n"
     ]
    },
    {
     "data": {
      "text/html": [
       "<h1 style=\"color:#21618C \", align=\"center\">Pandas Basic Concepts</h1>"
      ],
      "text/plain": [
       "<IPython.core.display.HTML object>"
      ]
     },
     "metadata": {},
     "output_type": "display_data"
    }
   ],
   "source": [
    "from IPython.core.display import display, HTML\n",
    "\n",
    "display(HTML('<h1 style=\"color:#21618C \", align=\"center\">Pandas Basic Concepts</h1>'))"
   ]
  },
  {
   "cell_type": "code",
   "execution_count": 44,
   "id": "f90c2f23-e5e3-4094-b8c0-a3c740f7fe33",
   "metadata": {},
   "outputs": [
    {
     "data": {
      "text/html": [
       "<h4 style=\"color:#21618C \">Introduction of pandas in python :</h4>"
      ],
      "text/plain": [
       "<IPython.core.display.HTML object>"
      ]
     },
     "metadata": {},
     "output_type": "display_data"
    }
   ],
   "source": [
    "display(HTML('<h4 style=\"color:#21618C \">Introduction of pandas in python :</h4>'))\n",
    "#Pandas is library of python \n",
    "#It used for Analyze the data’"
   ]
  },
  {
   "cell_type": "code",
   "execution_count": 57,
   "id": "8ed53ae5-2f41-47b6-affd-2675b2c47410",
   "metadata": {},
   "outputs": [
    {
     "data": {
      "text/html": [
       "<h4 style=\"color:#21618C \">(1) What is Pandas?</h4>"
      ],
      "text/plain": [
       "<IPython.core.display.HTML object>"
      ]
     },
     "metadata": {},
     "output_type": "display_data"
    }
   ],
   "source": [
    "display(HTML('<h4 style=\"color:#21618C \">(1) What is Pandas?</h4>'))"
   ]
  },
  {
   "cell_type": "markdown",
   "id": "07541eab-201f-4473-ba42-4d31504621b9",
   "metadata": {},
   "source": [
    "#•\tPandas is a Python library used for working with data sets.\n",
    "#•\tIt has functions for analyzing, cleaning, exploring, and manipulating data."
   ]
  },
  {
   "cell_type": "code",
   "execution_count": 56,
   "id": "df5732df-0b95-4869-8bd2-d462aada5399",
   "metadata": {},
   "outputs": [
    {
     "data": {
      "text/html": [
       "<h4 style=\"color:#21618C \">(2) What can pandas do?</h4>"
      ],
      "text/plain": [
       "<IPython.core.display.HTML object>"
      ]
     },
     "metadata": {},
     "output_type": "display_data"
    }
   ],
   "source": [
    "display(HTML('<h4 style=\"color:#21618C \">(2) What can pandas do?</h4>'))"
   ]
  },
  {
   "cell_type": "markdown",
   "id": "95dab70c-3a95-4429-83a4-6e0cc2dbb369",
   "metadata": {},
   "source": [
    "# Pandas gives you answers about the data. Like:\n",
    "#• Is there a correlation between two or more columns?\n",
    "#•\tWhat is average value?\n",
    "#•\tMax value?\n",
    "#•\tMin value?"
   ]
  },
  {
   "cell_type": "code",
   "execution_count": 59,
   "id": "72bd8e8d-d851-4e38-ac99-7b7f7df4e954",
   "metadata": {},
   "outputs": [
    {
     "data": {
      "text/html": [
       "<h4 style=\"color:#21618C \">(3) Import of Pandas?</h4>"
      ],
      "text/plain": [
       "<IPython.core.display.HTML object>"
      ]
     },
     "metadata": {},
     "output_type": "display_data"
    }
   ],
   "source": [
    "display(HTML('<h4 style=\"color:#21618C \">(3) Import of Pandas?</h4>'))"
   ]
  },
  {
   "cell_type": "code",
   "execution_count": 50,
   "id": "7c12a5d4-8649-4727-a28f-1f1f846e3ede",
   "metadata": {},
   "outputs": [],
   "source": [
    "import pandas as pd\n",
    "#Pandas is usually imported under the pd alias.\n",
    "#as keyword while importing"
   ]
  },
  {
   "cell_type": "code",
   "execution_count": 60,
   "id": "c8042afc-bd6e-48ba-9bf5-de0b30c53f93",
   "metadata": {},
   "outputs": [
    {
     "data": {
      "text/html": [
       "<h4 style=\"color:#21618C \">(4) Checking Pandas Version </h4>"
      ],
      "text/plain": [
       "<IPython.core.display.HTML object>"
      ]
     },
     "metadata": {},
     "output_type": "display_data"
    }
   ],
   "source": [
    "display(HTML('<h4 style=\"color:#21618C \">(4) Checking Pandas Version </h4>'))"
   ]
  },
  {
   "cell_type": "markdown",
   "id": "ad5742ef-4c56-4f38-8aa6-4cdf291b160d",
   "metadata": {},
   "source": [
    "# The version string is stored under __version__ attribute."
   ]
  },
  {
   "cell_type": "code",
   "execution_count": 53,
   "id": "4a895caf-a747-4dea-9f01-a4ed5d27f6fe",
   "metadata": {},
   "outputs": [
    {
     "name": "stdout",
     "output_type": "stream",
     "text": [
      "2.2.3\n"
     ]
    }
   ],
   "source": [
    "print(pd.__version__)"
   ]
  },
  {
   "cell_type": "code",
   "execution_count": 61,
   "id": "dcb4af8f-0bc0-43db-8e38-d88ef4b9847c",
   "metadata": {},
   "outputs": [
    {
     "data": {
      "text/html": [
       "<h4 style=\"color:#21618C \">(5) Pandas Series</h4>"
      ],
      "text/plain": [
       "<IPython.core.display.HTML object>"
      ]
     },
     "metadata": {},
     "output_type": "display_data"
    }
   ],
   "source": [
    "display(HTML('<h4 style=\"color:#21618C \">(5) Pandas Series</h4>'))"
   ]
  },
  {
   "cell_type": "markdown",
   "id": "87f53042-935f-4ca0-ac1b-748ec1aee168",
   "metadata": {},
   "source": [
    "# What is a Series?\n",
    "#A Pandas Series is like a column in a table.\n",
    "#It is a one-dimensional array holding data of any type."
   ]
  },
  {
   "cell_type": "code",
   "execution_count": 62,
   "id": "60420601-4c04-46ae-ba70-45dab54fb30b",
   "metadata": {},
   "outputs": [
    {
     "name": "stdout",
     "output_type": "stream",
     "text": [
      "0    1\n",
      "1    7\n",
      "2    2\n",
      "dtype: int64\n"
     ]
    }
   ],
   "source": [
    "a = [1, 7, 2]\n",
    "\n",
    "myvar = pd.Series(a)\n",
    "\n",
    "print(myvar)"
   ]
  },
  {
   "cell_type": "code",
   "execution_count": 64,
   "id": "8eb55d54-4616-4a25-b24b-a55db3bcb70b",
   "metadata": {},
   "outputs": [
    {
     "data": {
      "text/html": [
       "<h4 style=\"color:#21618C \">(6) Labels </h4>"
      ],
      "text/plain": [
       "<IPython.core.display.HTML object>"
      ]
     },
     "metadata": {},
     "output_type": "display_data"
    }
   ],
   "source": [
    "display(HTML('<h4 style=\"color:#21618C \">(5) Labels </h4>'))"
   ]
  },
  {
   "cell_type": "markdown",
   "id": "95fe668e-6543-4865-8757-4ef1db43fe77",
   "metadata": {},
   "source": [
    "# Create Labels\n",
    "#With the index argument, you can name your own labels."
   ]
  },
  {
   "cell_type": "code",
   "execution_count": 65,
   "id": "a69bd9cb-5f9a-435f-a64f-f1ba5d246e50",
   "metadata": {},
   "outputs": [
    {
     "name": "stdout",
     "output_type": "stream",
     "text": [
      "x    1\n",
      "y    7\n",
      "z    2\n",
      "dtype: int64\n"
     ]
    }
   ],
   "source": [
    "a = [1, 7, 2]\n",
    "\n",
    "myvar = pd.Series(a, index = [\"x\", \"y\", \"z\"])\n",
    "\n",
    "print(myvar)"
   ]
  },
  {
   "cell_type": "code",
   "execution_count": 66,
   "id": "c0d6c714-e643-487f-b1fc-e0b93b394758",
   "metadata": {},
   "outputs": [
    {
     "name": "stdout",
     "output_type": "stream",
     "text": [
      "7\n"
     ]
    }
   ],
   "source": [
    "#When you have created labels, you can access an item by referring to the label.\n",
    "print(myvar[\"y\"])"
   ]
  },
  {
   "cell_type": "code",
   "execution_count": 71,
   "id": "c98531aa-8bf9-4e9a-a9d4-89b839aeeaf1",
   "metadata": {},
   "outputs": [
    {
     "data": {
      "text/html": [
       "<h4 style=\"color:#21618C \">(7) Key/Value Objects as Series </h4>"
      ],
      "text/plain": [
       "<IPython.core.display.HTML object>"
      ]
     },
     "metadata": {},
     "output_type": "display_data"
    }
   ],
   "source": [
    "display(HTML('<h4 style=\"color:#21618C \">(7) Key/Value Objects as Series </h4>'))"
   ]
  },
  {
   "cell_type": "markdown",
   "id": "5b097473-a2e9-454d-9bd2-884fe76b13e4",
   "metadata": {},
   "source": [
    "#You can also use a key/value object, like a dictionary, when creating a Series."
   ]
  },
  {
   "cell_type": "code",
   "execution_count": 69,
   "id": "84f517d2-f579-4850-be24-45beca0f53ec",
   "metadata": {},
   "outputs": [
    {
     "name": "stdout",
     "output_type": "stream",
     "text": [
      "day1    420\n",
      "day2    380\n",
      "day3    390\n",
      "dtype: int64\n"
     ]
    }
   ],
   "source": [
    "calories = {\"day1\": 420, \"day2\": 380, \"day3\": 390}\n",
    "\n",
    "myvar = pd.Series(calories)\n",
    "\n",
    "print(myvar)"
   ]
  },
  {
   "cell_type": "code",
   "execution_count": 70,
   "id": "6e564eda-a375-4c82-8ee6-5580c51e60f6",
   "metadata": {},
   "outputs": [
    {
     "name": "stdout",
     "output_type": "stream",
     "text": [
      "day1    420\n",
      "day2    380\n",
      "dtype: int64\n"
     ]
    }
   ],
   "source": [
    "#To select only some of the items in the dictionary, use the index argument and specify only the items you want to include in the Series.\n",
    "\n",
    "calories = {\"day1\": 420, \"day2\": 380, \"day3\": 390}\n",
    "\n",
    "myvar = pd.Series(calories, index = [\"day1\", \"day2\"])\n",
    "\n",
    "print(myvar)"
   ]
  },
  {
   "cell_type": "code",
   "execution_count": 72,
   "id": "cf9392a4-3853-4784-b21f-1d6cb977bbb2",
   "metadata": {},
   "outputs": [
    {
     "data": {
      "text/html": [
       "<h4 style=\"color:#21618C \">(8) DataFrames</h4>"
      ],
      "text/plain": [
       "<IPython.core.display.HTML object>"
      ]
     },
     "metadata": {},
     "output_type": "display_data"
    }
   ],
   "source": [
    "display(HTML('<h4 style=\"color:#21618C \">(8) DataFrames</h4>'))"
   ]
  },
  {
   "cell_type": "markdown",
   "id": "7b0c7aef-593f-4597-a50d-efd341b4f3fe",
   "metadata": {},
   "source": [
    "# Data sets in Pandas are multi-dimensional tables, called DataFrames.\n",
    "# Series is like a column, a DataFrame is the whole table."
   ]
  },
  {
   "cell_type": "code",
   "execution_count": 79,
   "id": "58f2a562-f461-4606-90ad-60108b881c32",
   "metadata": {},
   "outputs": [
    {
     "name": "stdout",
     "output_type": "stream",
     "text": [
      "   calories  duration\n",
      "1       420        50\n",
      "2       380        40\n",
      "3       390        45\n"
     ]
    }
   ],
   "source": [
    "data = {\n",
    "  \"calories\": [420, 380, 390],\n",
    "  \"duration\": [50, 40, 45]\n",
    "}\n",
    "\n",
    "#load data into a DataFrame object:\n",
    "df = pd.DataFrame(data, index = ['1','2','3'])\n",
    "\n",
    "print(df) "
   ]
  },
  {
   "cell_type": "code",
   "execution_count": null,
   "id": "5f32bca4-2d16-482b-8d28-39b2ab5a35f1",
   "metadata": {},
   "outputs": [],
   "source": []
  },
  {
   "cell_type": "code",
   "execution_count": 80,
   "id": "4db0b421-0f6f-43f6-aa5e-69662ebff372",
   "metadata": {},
   "outputs": [
    {
     "data": {
      "text/html": [
       "<h4 style=\"color:#21618C \">(9) Named Indexes</h4>"
      ],
      "text/plain": [
       "<IPython.core.display.HTML object>"
      ]
     },
     "metadata": {},
     "output_type": "display_data"
    }
   ],
   "source": [
    "display(HTML('<h4 style=\"color:#21618C \">(9) Named Indexes</h4>'))"
   ]
  },
  {
   "cell_type": "code",
   "execution_count": 88,
   "id": "0a574f75-cdb5-4f32-a851-f14189027be8",
   "metadata": {},
   "outputs": [
    {
     "name": "stdout",
     "output_type": "stream",
     "text": [
      "      calories  duration\n",
      "day1       420        50\n",
      "day2       380        40\n",
      "day3       390        45\n"
     ]
    }
   ],
   "source": [
    "data = {\n",
    "  \"calories\": [420, 380, 390],\n",
    "  \"duration\": [50, 40, 45]\n",
    "}\n",
    "\n",
    "df = pd.DataFrame(data, index = [\"day1\", \"day2\", \"day3\"])\n",
    "print(df) "
   ]
  },
  {
   "cell_type": "code",
   "execution_count": 101,
   "id": "1e48e83e-b652-4eb9-a98e-c26f6202f945",
   "metadata": {},
   "outputs": [
    {
     "data": {
      "text/html": [
       "<h4 style=\"color:#21618C\", align=\"center\">Pandas Read CSV </h4>"
      ],
      "text/plain": [
       "<IPython.core.display.HTML object>"
      ]
     },
     "metadata": {},
     "output_type": "display_data"
    }
   ],
   "source": [
    "display(HTML('<h4 style=\"color:#21618C\", align=\"center\">Pandas Read CSV </h4>'))"
   ]
  },
  {
   "cell_type": "code",
   "execution_count": 83,
   "id": "e44cc509-3dfc-4156-9803-520650738a4f",
   "metadata": {},
   "outputs": [
    {
     "data": {
      "text/html": [
       "<h4 style=\"color:#21618C \">(9) Load Files Into a DataFrame </h4>"
      ],
      "text/plain": [
       "<IPython.core.display.HTML object>"
      ]
     },
     "metadata": {},
     "output_type": "display_data"
    }
   ],
   "source": [
    "display(HTML('<h4 style=\"color:#21618C \">(9) Load Files Into a DataFrame </h4>'))"
   ]
  },
  {
   "cell_type": "code",
   "execution_count": 85,
   "id": "9fd69594-7c67-435c-9576-6bd7cd959617",
   "metadata": {},
   "outputs": [],
   "source": [
    "# Create a sample DataFrame\n",
    "data = {'Name': ['Alice', 'Bob', 'Charlie'], 'Age': [25, 30, 35]}\n",
    "df = pd.DataFrame(data)\n",
    "\n",
    "# Save DataFrame to CSV\n",
    "df.to_csv('BigData.csv', index=False)  # index=False to avoid adding extra index column\n"
   ]
  },
  {
   "cell_type": "code",
   "execution_count": 92,
   "id": "b17c012e-ad4b-4804-8edd-ae63d57351af",
   "metadata": {},
   "outputs": [
    {
     "name": "stdout",
     "output_type": "stream",
     "text": [
      "      Name  Age\n",
      "0    Alice   25\n",
      "1      Bob   30\n",
      "2  Charlie   35\n"
     ]
    }
   ],
   "source": [
    "df = pd.read_csv('BigData.csv') # import file name \" BigData\" which is already exiest in my folder\n",
    "\n",
    "print(df.to_string())# to_string is use for print entire data"
   ]
  },
  {
   "cell_type": "code",
   "execution_count": 95,
   "id": "cc0d4e89-4025-45c5-9fca-80147313684f",
   "metadata": {},
   "outputs": [
    {
     "data": {
      "text/html": [
       "<h4 style=\"color:#21618C \">(10) Max_Rows</h4>"
      ],
      "text/plain": [
       "<IPython.core.display.HTML object>"
      ]
     },
     "metadata": {},
     "output_type": "display_data"
    }
   ],
   "source": [
    "display(HTML('<h4 style=\"color:#21618C \">(10) Max_Rows</h4>'))"
   ]
  },
  {
   "cell_type": "code",
   "execution_count": 93,
   "id": "02a68334-9e07-4ea4-8e25-dbd09a851a28",
   "metadata": {},
   "outputs": [
    {
     "name": "stdout",
     "output_type": "stream",
     "text": [
      "60\n"
     ]
    }
   ],
   "source": [
    "print(pd.options.display.max_rows) #You can check your system's maximum rows with the pd.options.display.max_rows statement."
   ]
  },
  {
   "cell_type": "code",
   "execution_count": 98,
   "id": "d3b4e156-b912-4c0d-b2e1-9fd2ea5f66a5",
   "metadata": {},
   "outputs": [
    {
     "name": "stdout",
     "output_type": "stream",
     "text": [
      "      Name  Age\n",
      "0    Alice   25\n",
      "1      Bob   30\n",
      "2  Charlie   35\n"
     ]
    }
   ],
   "source": [
    "#You can change the maximum rows number with the same statement.\n",
    "pd.options.display.max_rows = 9999\n",
    "\n",
    "df = pd.read_csv('BigData.csv')\n",
    "\n",
    "print(df) "
   ]
  },
  {
   "cell_type": "code",
   "execution_count": 102,
   "id": "6a577316-b1ba-4ee4-86f3-da29db76495a",
   "metadata": {},
   "outputs": [
    {
     "data": {
      "text/html": [
       "<h4 style=\"color:#21618C\", align=\"center\">Pandas Read Json</h4>"
      ],
      "text/plain": [
       "<IPython.core.display.HTML object>"
      ]
     },
     "metadata": {},
     "output_type": "display_data"
    }
   ],
   "source": [
    "display(HTML('<h4 style=\"color:#21618C\", align=\"center\">Pandas Read Json</h4>'))"
   ]
  },
  {
   "cell_type": "code",
   "execution_count": 111,
   "id": "28cdbd96-c555-4fad-8969-77958fc78281",
   "metadata": {},
   "outputs": [
    {
     "data": {
      "text/html": [
       "<h4 style=\"color:#21618C\">(11) Read Json</h4>"
      ],
      "text/plain": [
       "<IPython.core.display.HTML object>"
      ]
     },
     "metadata": {},
     "output_type": "display_data"
    }
   ],
   "source": [
    "display(HTML('<h4 style=\"color:#21618C\">(11) Read Json</h4>'))"
   ]
  },
  {
   "cell_type": "code",
   "execution_count": null,
   "id": "4231a04e-a19f-4efd-946b-3bbb4eaad4d5",
   "metadata": {},
   "outputs": [],
   "source": [
    "df = pd.read_json('data.json')\n",
    "print(df.to_string())"
   ]
  },
  {
   "cell_type": "markdown",
   "id": "766f68f9-49bd-41f1-92c8-0458c21ef60e",
   "metadata": {},
   "source": [
    "# Load a Python Dictionary into a DataFrame:"
   ]
  },
  {
   "cell_type": "code",
   "execution_count": 106,
   "id": "bf01245c-bb26-4666-9904-57b1f179400b",
   "metadata": {},
   "outputs": [
    {
     "name": "stdout",
     "output_type": "stream",
     "text": [
      "   Duration  Pulse  Maxpulse  Calories\n",
      "0        60    110       130       409\n",
      "1        60    117       145       479\n",
      "2        60    103       135       340\n",
      "3        45    109       175       282\n",
      "4        45    117       148       406\n",
      "5        60    102       127       300\n"
     ]
    }
   ],
   "source": [
    "data = {\n",
    "  \"Duration\":{\n",
    "    \"0\":60,\n",
    "    \"1\":60,\n",
    "    \"2\":60,\n",
    "    \"3\":45,\n",
    "    \"4\":45,\n",
    "    \"5\":60\n",
    "  },\n",
    "  \"Pulse\":{\n",
    "    \"0\":110,\n",
    "    \"1\":117,\n",
    "    \"2\":103,\n",
    "    \"3\":109,\n",
    "    \"4\":117,\n",
    "    \"5\":102\n",
    "  },\n",
    "  \"Maxpulse\":{\n",
    "    \"0\":130,\n",
    "    \"1\":145,\n",
    "    \"2\":135,\n",
    "    \"3\":175,\n",
    "    \"4\":148,\n",
    "    \"5\":127\n",
    "  },\n",
    "  \"Calories\":{\n",
    "    \"0\":409,\n",
    "    \"1\":479,\n",
    "    \"2\":340,\n",
    "    \"3\":282,\n",
    "    \"4\":406,\n",
    "    \"5\":300\n",
    "  }\n",
    "}\n",
    "\n",
    "df = pd.DataFrame(data)\n",
    "\n",
    "print(df) "
   ]
  },
  {
   "cell_type": "code",
   "execution_count": 110,
   "id": "a07de0a8-5bb6-4698-8a9d-0d091010af08",
   "metadata": {},
   "outputs": [
    {
     "data": {
      "text/html": [
       "<h4 style=\"color:#21618C\", align=\"center\">Pandas - Cleaning Data</h4>"
      ],
      "text/plain": [
       "<IPython.core.display.HTML object>"
      ]
     },
     "metadata": {},
     "output_type": "display_data"
    }
   ],
   "source": [
    "display(HTML('<h4 style=\"color:#21618C\", align=\"center\">Pandas - Cleaning Data</h4>'))"
   ]
  },
  {
   "cell_type": "code",
   "execution_count": 114,
   "id": "e779b00a-baf7-40ce-bb71-e4f3583d1cc9",
   "metadata": {},
   "outputs": [
    {
     "data": {
      "text/html": [
       "<h4 style=\"color:#21618C\">(12) Pandas - Cleaning Empty Cells</h4>"
      ],
      "text/plain": [
       "<IPython.core.display.HTML object>"
      ]
     },
     "metadata": {},
     "output_type": "display_data"
    }
   ],
   "source": [
    "display(HTML('<h4 style=\"color:#21618C\">(12) Pandas - Cleaning Empty Cells</h4>'))"
   ]
  },
  {
   "cell_type": "code",
   "execution_count": 115,
   "id": "a465ee92-00c8-48e6-b1d6-9834c768288e",
   "metadata": {},
   "outputs": [
    {
     "name": "stdout",
     "output_type": "stream",
     "text": [
      "      Name  Age\n",
      "0    Alice   25\n",
      "1      Bob   30\n",
      "2  Charlie   35\n"
     ]
    }
   ],
   "source": [
    "df = pd.read_csv('BigData.csv')\n",
    "\n",
    "new_df = df.dropna() # By default, the dropna() method returns a new DataFrame, and will not change the original.\n",
    "\n",
    "print(new_df.to_string())"
   ]
  },
  {
   "cell_type": "code",
   "execution_count": 117,
   "id": "f8f49e5b-63bd-4eeb-aa82-63ddd58ed47a",
   "metadata": {},
   "outputs": [
    {
     "name": "stdout",
     "output_type": "stream",
     "text": [
      "      calories  duration\n",
      "day1       420        50\n",
      "day2       380        40\n",
      "day3       390        45\n"
     ]
    }
   ],
   "source": [
    "data = {\n",
    "  \"calories\": [420, 380, 390],\n",
    "  \"duration\": [50, 40, 45]\n",
    "}\n",
    "\n",
    "df = pd.DataFrame(data, index = [\"day1\", \"day2\", \"day3\"])\n",
    "print(df) "
   ]
  },
  {
   "cell_type": "code",
   "execution_count": 118,
   "id": "56c80a11-8e07-4c43-a05f-4c1f37b1a9f3",
   "metadata": {},
   "outputs": [
    {
     "data": {
      "text/html": [
       "<div>\n",
       "<style scoped>\n",
       "    .dataframe tbody tr th:only-of-type {\n",
       "        vertical-align: middle;\n",
       "    }\n",
       "\n",
       "    .dataframe tbody tr th {\n",
       "        vertical-align: top;\n",
       "    }\n",
       "\n",
       "    .dataframe thead th {\n",
       "        text-align: right;\n",
       "    }\n",
       "</style>\n",
       "<table border=\"1\" class=\"dataframe\">\n",
       "  <thead>\n",
       "    <tr style=\"text-align: right;\">\n",
       "      <th></th>\n",
       "      <th>calories</th>\n",
       "      <th>duration</th>\n",
       "    </tr>\n",
       "  </thead>\n",
       "  <tbody>\n",
       "    <tr>\n",
       "      <th>calories</th>\n",
       "      <td>1.000000</td>\n",
       "      <td>0.960769</td>\n",
       "    </tr>\n",
       "    <tr>\n",
       "      <th>duration</th>\n",
       "      <td>0.960769</td>\n",
       "      <td>1.000000</td>\n",
       "    </tr>\n",
       "  </tbody>\n",
       "</table>\n",
       "</div>"
      ],
      "text/plain": [
       "          calories  duration\n",
       "calories  1.000000  0.960769\n",
       "duration  0.960769  1.000000"
      ]
     },
     "execution_count": 118,
     "metadata": {},
     "output_type": "execute_result"
    }
   ],
   "source": [
    "df.corr()   \n",
    "#The corr() method calculates the relationship between each column in your data set."
   ]
  },
  {
   "cell_type": "code",
   "execution_count": 120,
   "id": "f65d257f-3cba-4990-ae4d-a6ad5242918d",
   "metadata": {},
   "outputs": [
    {
     "data": {
      "text/html": [
       "<h4 style=\"color:#21618C\", align=\"center\"> Plotting </h4>"
      ],
      "text/plain": [
       "<IPython.core.display.HTML object>"
      ]
     },
     "metadata": {},
     "output_type": "display_data"
    }
   ],
   "source": [
    "display(HTML('<h4 style=\"color:#21618C\", align=\"center\"> Plotting </h4>'))"
   ]
  },
  {
   "cell_type": "code",
   "execution_count": 123,
   "id": "bd2c1524-3415-4348-be76-2603acedc95c",
   "metadata": {},
   "outputs": [
    {
     "data": {
      "image/png": "[encoded data removed]",
      "text/plain": [
       "<Figure size 640x480 with 1 Axes>"
      ]
     },
     "metadata": {},
     "output_type": "display_data"
    }
   ],
   "source": [
    "import matplotlib.pyplot as plt  #Pandas uses the plot() method to create diagrams.\n",
    "\n",
    "df = pd.read_csv('BigData.csv')\n",
    "\n",
    "df.plot()\n",
    "\n",
    "plt.show()"
   ]
  },
  {
   "cell_type": "code",
   "execution_count": null,
   "id": "eb9ac844-c6e9-481c-9aaf-9b919814956d",
   "metadata": {},
   "outputs": [],
   "source": [
    "import matplotlib.pyplot as plt\n",
    "\n",
    "df = pd.read_csv('BigData.csv')\n",
    "\n",
    "df.plot(kind = 'scatter', x = 'Duration', y = 'Calories')\n",
    "\n",
    "plt.show()"
   ]
  },
  {
   "cell_type": "code",
   "execution_count": 128,
   "id": "eca8952e-6c9e-4195-927a-fe7f34cd9bd7",
   "metadata": {},
   "outputs": [
    {
     "data": {
      "text/html": [
       "<h4 style=\"color:#21618C\">(13) Histogram </h4>"
      ],
      "text/plain": [
       "<IPython.core.display.HTML object>"
      ]
     },
     "metadata": {},
     "output_type": "display_data"
    }
   ],
   "source": [
    "display(HTML('<h4 style=\"color:#21618C\">(13) Histogram </h4>'))"
   ]
  },
  {
   "cell_type": "code",
   "execution_count": null,
   "id": "52f159d3-35c3-4262-84fb-b9449a9f6057",
   "metadata": {},
   "outputs": [],
   "source": [
    "df[\"Duration\"].plot(kind = 'hist')"
   ]
  },
  {
   "cell_type": "code",
   "execution_count": null,
   "id": "a1db2666-cf9f-4cbe-ba4a-68604fab1773",
   "metadata": {},
   "outputs": [],
   "source": []
  }
 ],
 "metadata": {
  "kernelspec": {
   "display_name": "Python 3 (ipykernel)",
   "language": "python",
   "name": "python3"
  },
  "language_info": {
   "codemirror_mode": {
    "name": "ipython",
    "version": 3
   },
   "file_extension": ".py",
   "mimetype": "text/x-python",
   "name": "python",
   "nbconvert_exporter": "python",
   "pygments_lexer": "ipython3",
   "version": "3.13.0"
  }
 },
 "nbformat": 4,
 "nbformat_minor": 5
}
